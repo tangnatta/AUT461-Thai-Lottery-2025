{
 "cells": [
  {
   "cell_type": "code",
   "execution_count": 2,
   "id": "0515423f",
   "metadata": {},
   "outputs": [
    {
     "name": "stdout",
     "output_type": "stream",
     "text": [
      "<class 'pandas.core.frame.DataFrame'>\n",
      "RangeIndex: 840 entries, 0 to 839\n",
      "Data columns (total 11 columns):\n",
      " #   Column             Non-Null Count  Dtype         \n",
      "---  ------             --------------  -----         \n",
      " 0   date               840 non-null    datetime64[ns]\n",
      " 1   วัน                840 non-null    object        \n",
      " 2   เดือน              840 non-null    object        \n",
      " 3   ปี                 840 non-null    object        \n",
      " 4   รางวัลที่1         840 non-null    object        \n",
      " 5   2ตัวบน             840 non-null    object        \n",
      " 6   3ตัวบน             840 non-null    object        \n",
      " 7   2ตัวล่าง           840 non-null    object        \n",
      " 8   3ตัวหน้า,3ตัวล่าง  840 non-null    object        \n",
      " 9   3ตัวหน้า           840 non-null    object        \n",
      " 10  3ตัวล่าง           840 non-null    object        \n",
      "dtypes: datetime64[ns](1), object(10)\n",
      "memory usage: 72.3+ KB\n"
     ]
    }
   ],
   "source": [
    "from utils.thai_lottery_scraper import ThaiLotteryScraper\n",
    "\n",
    "df = ThaiLotteryScraper().scrape_df(35)\n",
    "df.info()"
   ]
  },
  {
   "cell_type": "code",
   "execution_count": 34,
   "id": "52eed23d",
   "metadata": {},
   "outputs": [
    {
     "name": "stdout",
     "output_type": "stream",
     "text": [
      "<class 'pandas.core.frame.DataFrame'>\n",
      "RangeIndex: 5156 entries, 0 to 5155\n",
      "Data columns (total 2 columns):\n",
      " #   Column  Non-Null Count  Dtype \n",
      "---  ------  --------------  ----- \n",
      " 0   digit   5156 non-null   int64 \n",
      " 1   value   5156 non-null   object\n",
      "dtypes: int64(1), object(1)\n",
      "memory usage: 80.7+ KB\n"
     ]
    }
   ],
   "source": [
    "import pandas as pd\n",
    "\n",
    "df_1prize = pd.DataFrame(df['รางวัลที่1'].apply(lambda x: [{\"digit\":i+1,\"value\":digit} for i, digit in enumerate(x)]).explode().reset_index(drop=True).to_list())\n",
    "df_1prize.info()"
   ]
  },
  {
   "cell_type": "code",
   "execution_count": 35,
   "id": "bde757fb",
   "metadata": {},
   "outputs": [],
   "source": [
    "df_1prize.groupby('digit')['value'].value_counts().sort_values(ascending=False).reset_index().to_csv('1prize_digit_value_counts.csv', index=False, header=False)"
   ]
  },
  {
   "cell_type": "code",
   "execution_count": 29,
   "id": "cd5bf93b",
   "metadata": {},
   "outputs": [
    {
     "name": "stdout",
     "output_type": "stream",
     "text": [
      "<class 'pandas.core.frame.DataFrame'>\n",
      "RangeIndex: 4316 entries, 0 to 4315\n",
      "Data columns (total 2 columns):\n",
      " #   Column       Non-Null Count  Dtype \n",
      "---  ------       --------------  ----- \n",
      " 0   value [i]    4316 non-null   object\n",
      " 1   value [i+1]  4316 non-null   object\n",
      "dtypes: object(2)\n",
      "memory usage: 67.6+ KB\n"
     ]
    }
   ],
   "source": [
    "\n",
    "df_1prize = pd.DataFrame(df['รางวัลที่1'].apply(lambda x: [\n",
    "                         {\"value [i]\": x[i], \"value [i+1]\": x[i+1]} for i in range(len(x)-1)]).explode().reset_index(drop=True).to_list())\n",
    "df_1prize.info()"
   ]
  },
  {
   "cell_type": "code",
   "execution_count": 33,
   "id": "3c2292a5",
   "metadata": {},
   "outputs": [],
   "source": [
    "df_1prize.groupby('value [i]')['value [i+1]'].value_counts().sort_values(ascending=False).reset_index(\n",
    ").to_csv('1prize_what_next.csv', index=False, header=False)"
   ]
  },
  {
   "cell_type": "code",
   "execution_count": null,
   "id": "dc7acea6",
   "metadata": {},
   "outputs": [],
   "source": []
  }
 ],
 "metadata": {
  "kernelspec": {
   "display_name": ".venv",
   "language": "python",
   "name": "python3"
  },
  "language_info": {
   "codemirror_mode": {
    "name": "ipython",
    "version": 3
   },
   "file_extension": ".py",
   "mimetype": "text/x-python",
   "name": "python",
   "nbconvert_exporter": "python",
   "pygments_lexer": "ipython3",
   "version": "3.13.2"
  }
 },
 "nbformat": 4,
 "nbformat_minor": 5
}
